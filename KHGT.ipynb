{
  "cells": [
    {
      "cell_type": "markdown",
      "metadata": {
        "id": "view-in-github",
        "colab_type": "text"
      },
      "source": [
        "<a href=\"https://colab.research.google.com/github/tmukande-debug/KHGT-Baseline/blob/master/KHGT.ipynb\" target=\"_parent\"><img src=\"https://colab.research.google.com/assets/colab-badge.svg\" alt=\"Open In Colab\"/></a>"
      ]
    },
    {
      "cell_type": "code",
      "execution_count": null,
      "metadata": {
        "colab": {
          "base_uri": "https://localhost:8080/"
        },
        "id": "CC9_u0xCZcGp",
        "outputId": "73394cf1-7b76-4304-9d65-9160c8bed53d"
      },
      "outputs": [
        {
          "output_type": "stream",
          "name": "stdout",
          "text": [
            "Cloning into 'KHGT-Baseline'...\n",
            "remote: Enumerating objects: 204, done.\u001b[K\n",
            "remote: Counting objects: 100% (101/101), done.\u001b[K\n",
            "remote: Compressing objects: 100% (101/101), done.\u001b[K\n",
            "remote: Total 204 (delta 57), reused 0 (delta 0), pack-reused 103\u001b[K\n",
            "Receiving objects: 100% (204/204), 95.67 MiB | 10.71 MiB/s, done.\n",
            "Resolving deltas: 100% (79/79), done.\n"
          ]
        }
      ],
      "source": [
        "!git clone https://github.com/tmukande-debug/KHGT-Baseline"
      ]
    },
    {
      "cell_type": "code",
      "execution_count": null,
      "metadata": {
        "id": "WU7n3TBOcTvH",
        "colab": {
          "base_uri": "https://localhost:8080/"
        },
        "outputId": "7493c798-0362-410e-842b-af7cb8be4ebf"
      },
      "outputs": [
        {
          "output_type": "stream",
          "name": "stdout",
          "text": [
            "Looking in indexes: https://pypi.org/simple, https://us-python.pkg.dev/colab-wheels/public/simple/\n",
            "Collecting tensorflow==2.11.0\n",
            "  Downloading tensorflow-2.11.0-cp37-cp37m-manylinux_2_17_x86_64.manylinux2014_x86_64.whl (588.3 MB)\n",
            "\u001b[K     |████████████████████████████████| 588.3 MB 6.9 kB/s \n",
            "\u001b[?25hRequirement already satisfied: wrapt>=1.11.0 in /usr/local/lib/python3.7/dist-packages (from tensorflow==2.11.0) (1.14.1)\n",
            "Collecting tensorboard<2.12,>=2.11\n",
            "  Downloading tensorboard-2.11.0-py3-none-any.whl (6.0 MB)\n",
            "\u001b[K     |████████████████████████████████| 6.0 MB 51.6 MB/s \n",
            "\u001b[?25hRequirement already satisfied: six>=1.12.0 in /usr/local/lib/python3.7/dist-packages (from tensorflow==2.11.0) (1.15.0)\n",
            "Collecting keras<2.12,>=2.11.0\n",
            "  Downloading keras-2.11.0-py2.py3-none-any.whl (1.7 MB)\n",
            "\u001b[K     |████████████████████████████████| 1.7 MB 53.5 MB/s \n",
            "\u001b[?25hRequirement already satisfied: tensorflow-io-gcs-filesystem>=0.23.1 in /usr/local/lib/python3.7/dist-packages (from tensorflow==2.11.0) (0.27.0)\n",
            "Requirement already satisfied: astunparse>=1.6.0 in /usr/local/lib/python3.7/dist-packages (from tensorflow==2.11.0) (1.6.3)\n",
            "Requirement already satisfied: gast<=0.4.0,>=0.2.1 in /usr/local/lib/python3.7/dist-packages (from tensorflow==2.11.0) (0.4.0)\n",
            "Requirement already satisfied: typing-extensions>=3.6.6 in /usr/local/lib/python3.7/dist-packages (from tensorflow==2.11.0) (4.1.1)\n",
            "Requirement already satisfied: libclang>=13.0.0 in /usr/local/lib/python3.7/dist-packages (from tensorflow==2.11.0) (14.0.6)\n",
            "Requirement already satisfied: opt-einsum>=2.3.2 in /usr/local/lib/python3.7/dist-packages (from tensorflow==2.11.0) (3.3.0)\n",
            "Requirement already satisfied: h5py>=2.9.0 in /usr/local/lib/python3.7/dist-packages (from tensorflow==2.11.0) (3.1.0)\n",
            "Requirement already satisfied: setuptools in /usr/local/lib/python3.7/dist-packages (from tensorflow==2.11.0) (57.4.0)\n",
            "Requirement already satisfied: absl-py>=1.0.0 in /usr/local/lib/python3.7/dist-packages (from tensorflow==2.11.0) (1.3.0)\n",
            "Collecting flatbuffers>=2.0\n",
            "  Downloading flatbuffers-22.11.23-py2.py3-none-any.whl (26 kB)\n",
            "Requirement already satisfied: packaging in /usr/local/lib/python3.7/dist-packages (from tensorflow==2.11.0) (21.3)\n",
            "Requirement already satisfied: google-pasta>=0.1.1 in /usr/local/lib/python3.7/dist-packages (from tensorflow==2.11.0) (0.2.0)\n",
            "Collecting tensorflow-estimator<2.12,>=2.11.0\n",
            "  Downloading tensorflow_estimator-2.11.0-py2.py3-none-any.whl (439 kB)\n",
            "\u001b[K     |████████████████████████████████| 439 kB 68.1 MB/s \n",
            "\u001b[?25hRequirement already satisfied: numpy>=1.20 in /usr/local/lib/python3.7/dist-packages (from tensorflow==2.11.0) (1.21.6)\n",
            "Requirement already satisfied: termcolor>=1.1.0 in /usr/local/lib/python3.7/dist-packages (from tensorflow==2.11.0) (2.1.0)\n",
            "Requirement already satisfied: grpcio<2.0,>=1.24.3 in /usr/local/lib/python3.7/dist-packages (from tensorflow==2.11.0) (1.50.0)\n",
            "Requirement already satisfied: protobuf<3.20,>=3.9.2 in /usr/local/lib/python3.7/dist-packages (from tensorflow==2.11.0) (3.19.6)\n",
            "Requirement already satisfied: wheel<1.0,>=0.23.0 in /usr/local/lib/python3.7/dist-packages (from astunparse>=1.6.0->tensorflow==2.11.0) (0.38.4)\n",
            "Requirement already satisfied: cached-property in /usr/local/lib/python3.7/dist-packages (from h5py>=2.9.0->tensorflow==2.11.0) (1.5.2)\n",
            "Requirement already satisfied: requests<3,>=2.21.0 in /usr/local/lib/python3.7/dist-packages (from tensorboard<2.12,>=2.11->tensorflow==2.11.0) (2.23.0)\n",
            "Requirement already satisfied: google-auth<3,>=1.6.3 in /usr/local/lib/python3.7/dist-packages (from tensorboard<2.12,>=2.11->tensorflow==2.11.0) (2.14.1)\n",
            "Requirement already satisfied: tensorboard-data-server<0.7.0,>=0.6.0 in /usr/local/lib/python3.7/dist-packages (from tensorboard<2.12,>=2.11->tensorflow==2.11.0) (0.6.1)\n",
            "Requirement already satisfied: werkzeug>=1.0.1 in /usr/local/lib/python3.7/dist-packages (from tensorboard<2.12,>=2.11->tensorflow==2.11.0) (1.0.1)\n",
            "Requirement already satisfied: markdown>=2.6.8 in /usr/local/lib/python3.7/dist-packages (from tensorboard<2.12,>=2.11->tensorflow==2.11.0) (3.4.1)\n",
            "Requirement already satisfied: tensorboard-plugin-wit>=1.6.0 in /usr/local/lib/python3.7/dist-packages (from tensorboard<2.12,>=2.11->tensorflow==2.11.0) (1.8.1)\n",
            "Requirement already satisfied: google-auth-oauthlib<0.5,>=0.4.1 in /usr/local/lib/python3.7/dist-packages (from tensorboard<2.12,>=2.11->tensorflow==2.11.0) (0.4.6)\n",
            "Requirement already satisfied: pyasn1-modules>=0.2.1 in /usr/local/lib/python3.7/dist-packages (from google-auth<3,>=1.6.3->tensorboard<2.12,>=2.11->tensorflow==2.11.0) (0.2.8)\n",
            "Requirement already satisfied: cachetools<6.0,>=2.0.0 in /usr/local/lib/python3.7/dist-packages (from google-auth<3,>=1.6.3->tensorboard<2.12,>=2.11->tensorflow==2.11.0) (5.2.0)\n",
            "Requirement already satisfied: rsa<5,>=3.1.4 in /usr/local/lib/python3.7/dist-packages (from google-auth<3,>=1.6.3->tensorboard<2.12,>=2.11->tensorflow==2.11.0) (4.9)\n",
            "Requirement already satisfied: requests-oauthlib>=0.7.0 in /usr/local/lib/python3.7/dist-packages (from google-auth-oauthlib<0.5,>=0.4.1->tensorboard<2.12,>=2.11->tensorflow==2.11.0) (1.3.1)\n",
            "Requirement already satisfied: importlib-metadata>=4.4 in /usr/local/lib/python3.7/dist-packages (from markdown>=2.6.8->tensorboard<2.12,>=2.11->tensorflow==2.11.0) (4.13.0)\n",
            "Requirement already satisfied: zipp>=0.5 in /usr/local/lib/python3.7/dist-packages (from importlib-metadata>=4.4->markdown>=2.6.8->tensorboard<2.12,>=2.11->tensorflow==2.11.0) (3.10.0)\n",
            "Requirement already satisfied: pyasn1<0.5.0,>=0.4.6 in /usr/local/lib/python3.7/dist-packages (from pyasn1-modules>=0.2.1->google-auth<3,>=1.6.3->tensorboard<2.12,>=2.11->tensorflow==2.11.0) (0.4.8)\n",
            "Requirement already satisfied: certifi>=2017.4.17 in /usr/local/lib/python3.7/dist-packages (from requests<3,>=2.21.0->tensorboard<2.12,>=2.11->tensorflow==2.11.0) (2022.9.24)\n",
            "Requirement already satisfied: urllib3!=1.25.0,!=1.25.1,<1.26,>=1.21.1 in /usr/local/lib/python3.7/dist-packages (from requests<3,>=2.21.0->tensorboard<2.12,>=2.11->tensorflow==2.11.0) (1.24.3)\n",
            "Requirement already satisfied: chardet<4,>=3.0.2 in /usr/local/lib/python3.7/dist-packages (from requests<3,>=2.21.0->tensorboard<2.12,>=2.11->tensorflow==2.11.0) (3.0.4)\n",
            "Requirement already satisfied: idna<3,>=2.5 in /usr/local/lib/python3.7/dist-packages (from requests<3,>=2.21.0->tensorboard<2.12,>=2.11->tensorflow==2.11.0) (2.10)\n",
            "Requirement already satisfied: oauthlib>=3.0.0 in /usr/local/lib/python3.7/dist-packages (from requests-oauthlib>=0.7.0->google-auth-oauthlib<0.5,>=0.4.1->tensorboard<2.12,>=2.11->tensorflow==2.11.0) (3.2.2)\n",
            "Requirement already satisfied: pyparsing!=3.0.5,>=2.0.2 in /usr/local/lib/python3.7/dist-packages (from packaging->tensorflow==2.11.0) (3.0.9)\n",
            "Installing collected packages: tensorflow-estimator, tensorboard, keras, flatbuffers, tensorflow\n",
            "  Attempting uninstall: tensorflow-estimator\n",
            "    Found existing installation: tensorflow-estimator 2.9.0\n",
            "    Uninstalling tensorflow-estimator-2.9.0:\n",
            "      Successfully uninstalled tensorflow-estimator-2.9.0\n",
            "  Attempting uninstall: tensorboard\n",
            "    Found existing installation: tensorboard 2.9.1\n",
            "    Uninstalling tensorboard-2.9.1:\n",
            "      Successfully uninstalled tensorboard-2.9.1\n",
            "  Attempting uninstall: keras\n",
            "    Found existing installation: keras 2.9.0\n",
            "    Uninstalling keras-2.9.0:\n",
            "      Successfully uninstalled keras-2.9.0\n",
            "  Attempting uninstall: flatbuffers\n",
            "    Found existing installation: flatbuffers 1.12\n",
            "    Uninstalling flatbuffers-1.12:\n",
            "      Successfully uninstalled flatbuffers-1.12\n",
            "  Attempting uninstall: tensorflow\n",
            "    Found existing installation: tensorflow 2.9.2\n",
            "    Uninstalling tensorflow-2.9.2:\n",
            "      Successfully uninstalled tensorflow-2.9.2\n",
            "Successfully installed flatbuffers-22.11.23 keras-2.11.0 tensorboard-2.11.0 tensorflow-2.11.0 tensorflow-estimator-2.11.0\n"
          ]
        }
      ],
      "source": [
        "!pip install tensorflow==2.11.0"
      ]
    },
    {
      "cell_type": "code",
      "execution_count": null,
      "metadata": {
        "colab": {
          "base_uri": "https://localhost:8080/"
        },
        "id": "u5_AbHrGkVE0",
        "outputId": "f2d54cda-68f9-4eca-da09-715000db8117"
      },
      "outputs": [
        {
          "output_type": "stream",
          "name": "stdout",
          "text": [
            "Mounted at /content/drive\n"
          ]
        }
      ],
      "source": [
        "from google.colab import drive\n",
        "drive.mount( '/content/drive')"
      ]
    },
    {
      "cell_type": "code",
      "execution_count": null,
      "metadata": {
        "id": "E2M1mLVsnbr9"
      },
      "outputs": [],
      "source": [
        "import os"
      ]
    },
    {
      "cell_type": "code",
      "execution_count": null,
      "metadata": {
        "id": "ebMnoLbfnOjM"
      },
      "outputs": [],
      "source": [
        "path = '/content/KHGT-Baseline/History'\n",
        "os.mkdir(path)"
      ]
    },
    {
      "cell_type": "code",
      "execution_count": null,
      "metadata": {
        "id": "upa_ikr7oB-k"
      },
      "outputs": [],
      "source": [
        "path = '/content/KHGT-Baseline/Models'\n",
        "os.mkdir(path)"
      ]
    },
    {
      "cell_type": "code",
      "execution_count": null,
      "metadata": {
        "colab": {
          "base_uri": "https://localhost:8080/"
        },
        "id": "lnpmUEFvchrC",
        "outputId": "ceb6d18f-afa5-47ee-8658-d3a286d5d575"
      },
      "outputs": [
        {
          "output_type": "stream",
          "name": "stdout",
          "text": [
            "/content/KHGT-Baseline\n"
          ]
        }
      ],
      "source": [
        "%cd KHGT-Baseline/"
      ]
    },
    {
      "cell_type": "code",
      "execution_count": null,
      "metadata": {
        "id": "4uJNfBnIcqgv"
      },
      "outputs": [],
      "source": [
        "#!python labcode_yelp.py"
      ]
    },
    {
      "cell_type": "code",
      "execution_count": null,
      "metadata": {
        "colab": {
          "base_uri": "https://localhost:8080/"
        },
        "id": "xPsk_GkKokdj",
        "outputId": "f51b3b86-b267-4ecc-cebb-995200c09eea"
      },
      "outputs": [
        {
          "output_type": "stream",
          "name": "stdout",
          "text": [
            "2022-11-30 19:19:22.040799: I tensorflow/core/platform/cpu_feature_guard.cc:193] This TensorFlow binary is optimized with oneAPI Deep Neural Network Library (oneDNN) to use the following CPU instructions in performance-critical operations:  AVX2 AVX512F FMA\n",
            "To enable them in other operations, rebuild TensorFlow with the appropriate compiler flags.\n",
            "2022-11-30 19:19:23.086453: W tensorflow/compiler/xla/stream_executor/platform/default/dso_loader.cc:64] Could not load dynamic library 'libnvinfer.so.7'; dlerror: libnvinfer.so.7: cannot open shared object file: No such file or directory; LD_LIBRARY_PATH: /usr/lib64-nvidia\n",
            "2022-11-30 19:19:23.086649: W tensorflow/compiler/xla/stream_executor/platform/default/dso_loader.cc:64] Could not load dynamic library 'libnvinfer_plugin.so.7'; dlerror: libnvinfer_plugin.so.7: cannot open shared object file: No such file or directory; LD_LIBRARY_PATH: /usr/lib64-nvidia\n",
            "2022-11-30 19:19:23.086672: W tensorflow/compiler/tf2tensorrt/utils/py_utils.cc:38] TF-TRT Warning: Cannot dlopen some TensorRT libraries. If you would like to use Nvidia GPU with TensorRT, please make sure the missing libraries mentioned above are installed properly.\n",
            "2022-11-30 19:19:24.491786: Start\n",
            "MAX TIME 1021\n",
            "2022-11-30 19:19:28.284984: Load Data\n",
            "USER 67788 ITEM 8704\n",
            "2022-11-30 19:19:43.976351: Model Prepared\n",
            "2022-11-30 19:19:44.784880: Varaibles Inited\n",
            "2022-11-30 19:21:39.333976: Epoch 0/120, Train: Loss = 18.9797, preLoss = 13.4927  \n",
            "2022-11-30 19:23:50.082465: Epoch 0/120, Test: HR = 0.5894, NDCG = 0.3275  \n",
            "2022-11-30 19:23:52.098892: Model Saved: model_name\n",
            "\n",
            "2022-11-30 19:25:37.845733: Epoch 1/120, Train: Loss = 13.2343, preLoss = 10.0330  \n",
            "\n",
            "2022-11-30 19:27:23.681921: Epoch 2/120, Train: Loss = 11.9098, preLoss = 9.2743  \n",
            "\n",
            "2022-11-30 19:29:10.140873: Epoch 3/120, Train: Loss = 10.6837, preLoss = 8.2658  \n",
            "2022-11-30 19:31:21.103582: Epoch 3/120, Test: HR = 0.6491, NDCG = 0.3747  \n",
            "\n",
            "2022-11-30 19:33:08.246993: Epoch 4/120, Train: Loss = 9.9634, preLoss = 7.7775  \n",
            "\n",
            "2022-11-30 19:34:53.580276: Epoch 5/120, Train: Loss = 9.6733, preLoss = 7.6386  \n",
            "2022-11-30 19:34:55.488188: Model Saved: model_name\n",
            "\n",
            "2022-11-30 19:36:42.628663: Epoch 6/120, Train: Loss = 9.3925, preLoss = 7.4724  \n",
            "2022-11-30 19:38:53.521682: Epoch 6/120, Test: HR = 0.6745, NDCG = 0.3954  \n",
            "\n",
            "2022-11-30 19:40:39.889464: Epoch 7/120, Train: Loss = 9.1591, preLoss = 7.3354  \n",
            "\n",
            "2022-11-30 19:42:24.939444: Epoch 8/120, Train: Loss = 8.9457, preLoss = 7.1978  \n",
            "\n",
            "2022-11-30 19:44:11.085851: Epoch 9/120, Train: Loss = 8.8404, preLoss = 7.1461  \n",
            "2022-11-30 19:46:20.659653: Epoch 9/120, Test: HR = 0.6754, NDCG = 0.4023  \n",
            "\n",
            "2022-11-30 19:48:06.151271: Epoch 10/120, Train: Loss = 8.6662, preLoss = 7.0273  \n",
            "2022-11-30 19:48:08.090647: Model Saved: model_name\n",
            "\n",
            "2022-11-30 19:49:52.982959: Epoch 11/120, Train: Loss = 8.5524, preLoss = 6.9467  \n",
            "\n",
            "2022-11-30 19:51:38.978001: Epoch 12/120, Train: Loss = 8.3513, preLoss = 6.7667  \n",
            "2022-11-30 19:53:48.548488: Epoch 12/120, Test: HR = 0.6897, NDCG = 0.4108  \n",
            "\n",
            "2022-11-30 19:55:33.547545: Epoch 13/120, Train: Loss = 8.2176, preLoss = 6.6577  \n",
            "\n",
            "2022-11-30 19:57:19.934380: Epoch 14/120, Train: Loss = 7.9687, preLoss = 6.4308  \n",
            "\n",
            "2022-11-30 19:59:04.505700: Epoch 15/120, Train: Loss = 7.9857, preLoss = 6.4808  \n",
            "2022-11-30 20:01:13.293162: Epoch 15/120, Test: HR = 0.6820, NDCG = 0.4011  \n",
            "2022-11-30 20:01:15.311964: Model Saved: model_name\n",
            "\n",
            "2022-11-30 20:03:01.023640: Epoch 16/120, Train: Loss = 7.7733, preLoss = 6.2974  \n",
            "\n",
            "2022-11-30 20:04:47.520208: Epoch 17/120, Train: Loss = 7.7070, preLoss = 6.2627  \n",
            "\n",
            "2022-11-30 20:06:32.626607: Epoch 18/120, Train: Loss = 7.6491, preLoss = 6.2368  \n",
            "2022-11-30 20:08:41.392752: Epoch 18/120, Test: HR = 0.6955, NDCG = 0.4159  \n",
            "\n",
            "2022-11-30 20:10:26.219210: Epoch 19/120, Train: Loss = 7.5331, preLoss = 6.1500  \n",
            "\n",
            "2022-11-30 20:12:12.158237: Epoch 20/120, Train: Loss = 7.4552, preLoss = 6.0964  \n",
            "2022-11-30 20:12:14.210408: Model Saved: model_name\n",
            "\n",
            "2022-11-30 20:13:58.657206: Epoch 21/120, Train: Loss = 7.4324, preLoss = 6.0972  \n",
            "2022-11-30 20:16:07.304982: Epoch 21/120, Test: HR = 0.6993, NDCG = 0.4209  \n",
            "\n",
            "2022-11-30 20:17:52.155152: Epoch 22/120, Train: Loss = 7.3902, preLoss = 6.0774  \n",
            "\n",
            "2022-11-30 20:19:38.744997: Epoch 23/120, Train: Loss = 7.3565, preLoss = 6.0636  \n",
            "\n",
            "2022-11-30 20:21:23.006631: Epoch 24/120, Train: Loss = 7.2254, preLoss = 5.9446  \n",
            "2022-11-30 20:23:32.271961: Epoch 24/120, Test: HR = 0.6992, NDCG = 0.4206  \n",
            "\n",
            "2022-11-30 20:25:17.094785: Epoch 25/120, Train: Loss = 7.1498, preLoss = 5.8801  \n",
            "2022-11-30 20:25:19.168227: Model Saved: model_name\n",
            "\n",
            "2022-11-30 20:27:04.597726: Epoch 26/120, Train: Loss = 7.0622, preLoss = 5.8096  \n",
            "\n",
            "2022-11-30 20:28:49.708689: Epoch 27/120, Train: Loss = 7.0513, preLoss = 5.8137  \n",
            "2022-11-30 20:30:59.895226: Epoch 27/120, Test: HR = 0.7071, NDCG = 0.4229  \n",
            "\n",
            "2022-11-30 20:32:44.363674: Epoch 28/120, Train: Loss = 7.0282, preLoss = 5.8063  \n",
            "\n",
            "2022-11-30 20:34:31.039020: Epoch 29/120, Train: Loss = 6.8608, preLoss = 5.6540  \n",
            "\n",
            "2022-11-30 20:36:16.573877: Epoch 30/120, Train: Loss = 6.9140, preLoss = 5.7222  \n",
            "2022-11-30 20:38:26.847095: Epoch 30/120, Test: HR = 0.7071, NDCG = 0.4216  \n",
            "2022-11-30 20:38:29.066245: Model Saved: model_name\n",
            "\n",
            "2022-11-30 20:40:15.537368: Epoch 31/120, Train: Loss = 6.7059, preLoss = 5.5289  \n",
            "\n",
            "2022-11-30 20:42:00.268461: Epoch 32/120, Train: Loss = 6.8510, preLoss = 5.6878  \n",
            "\n",
            "2022-11-30 20:43:46.583306: Epoch 33/120, Train: Loss = 6.6783, preLoss = 5.5266  \n",
            "2022-11-30 20:45:55.392698: Epoch 33/120, Test: HR = 0.7053, NDCG = 0.4234  \n",
            "\n",
            "2022-11-30 20:47:41.835736: Epoch 34/120, Train: Loss = 6.7145, preLoss = 5.5738  \n",
            "\n",
            "2022-11-30 20:49:26.457298: Epoch 35/120, Train: Loss = 6.6792, preLoss = 5.5488  \n",
            "2022-11-30 20:49:28.650481: Model Saved: model_name\n",
            "\n",
            "2022-11-30 20:51:14.521773: Epoch 36/120, Train: Loss = 6.6162, preLoss = 5.4911  \n",
            "2022-11-30 20:53:22.708363: Epoch 36/120, Test: HR = 0.7116, NDCG = 0.4245  \n",
            "\n",
            "2022-11-30 20:55:08.382291: Epoch 37/120, Train: Loss = 6.6673, preLoss = 5.5497  \n",
            "\n",
            "2022-11-30 20:56:52.822355: Epoch 38/120, Train: Loss = 6.5981, preLoss = 5.4880  \n",
            "\n",
            "2022-11-30 20:58:38.962159: Epoch 39/120, Train: Loss = 6.5927, preLoss = 5.4892  \n",
            "2022-11-30 21:00:47.119147: Epoch 39/120, Test: HR = 0.7119, NDCG = 0.4206  \n",
            "\n",
            "2022-11-30 21:02:31.532120: Epoch 40/120, Train: Loss = 6.5635, preLoss = 5.4659  \n",
            "2022-11-30 21:02:33.852024: Model Saved: model_name\n",
            "\n",
            "2022-11-30 21:04:19.875380: Epoch 41/120, Train: Loss = 6.5197, preLoss = 5.4286  \n",
            "\n",
            "2022-11-30 21:06:04.498271: Epoch 42/120, Train: Loss = 6.5591, preLoss = 5.4764  \n",
            "2022-11-30 21:08:13.437002: Epoch 42/120, Test: HR = 0.7160, NDCG = 0.4233  \n",
            "\n",
            "2022-11-30 21:09:58.014980: Epoch 43/120, Train: Loss = 6.4389, preLoss = 5.3618  \n",
            "\n",
            "2022-11-30 21:11:43.903352: Epoch 44/120, Train: Loss = 6.4955, preLoss = 5.4263  \n",
            "\n",
            "2022-11-30 21:13:28.025043: Epoch 45/120, Train: Loss = 6.4371, preLoss = 5.3759  \n",
            "2022-11-30 21:15:37.999795: Epoch 45/120, Test: HR = 0.7118, NDCG = 0.4244  \n",
            "2022-11-30 21:15:40.346183: Model Saved: model_name\n",
            "\n",
            "2022-11-30 21:17:25.971715: Epoch 46/120, Train: Loss = 6.4593, preLoss = 5.4047  \n",
            "\n",
            "2022-11-30 21:19:10.540851: Epoch 47/120, Train: Loss = 6.3997, preLoss = 5.3511  \n",
            "\n",
            "2022-11-30 21:20:56.899606: Epoch 48/120, Train: Loss = 6.3961, preLoss = 5.3523  \n",
            "2022-11-30 21:23:06.316933: Epoch 48/120, Test: HR = 0.7102, NDCG = 0.4196  \n",
            "\n",
            "2022-11-30 21:24:51.445677: Epoch 49/120, Train: Loss = 6.3687, preLoss = 5.3305  \n",
            "\n",
            "2022-11-30 21:26:35.139102: Epoch 50/120, Train: Loss = 6.2956, preLoss = 5.2630  \n",
            "2022-11-30 21:26:37.557862: Model Saved: model_name\n",
            "\n"
          ]
        }
      ],
      "source": [
        "!python labcode_ml10m.py --data ml10m --graphSampleN 1000 --save_path model_name"
      ]
    }
  ],
  "metadata": {
    "accelerator": "GPU",
    "colab": {
      "provenance": [],
      "authorship_tag": "ABX9TyPG3TK8QwO085p5st8KKVAn",
      "include_colab_link": true
    },
    "kernelspec": {
      "display_name": "Python 3",
      "name": "python3"
    },
    "language_info": {
      "name": "python"
    }
  },
  "nbformat": 4,
  "nbformat_minor": 0
}